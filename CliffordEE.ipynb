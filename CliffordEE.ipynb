{
 "cells": [
  {
   "cell_type": "markdown",
   "id": "b00358c8",
   "metadata": {},
   "source": [
    "Here we use Clifford simulations to confirm the formula for entanglement entropy growth."
   ]
  },
  {
   "cell_type": "markdown",
   "id": "ed9679e9",
   "metadata": {},
   "source": [
    "In src/CliffordCircuits.jl we have useful functions for clifford simulations, defining Pauli operators usefully (but this is not relevant for understanding this notebook)."
   ]
  },
  {
   "cell_type": "code",
   "execution_count": null,
   "id": "0d58623b",
   "metadata": {},
   "outputs": [],
   "source": [
    "include(\"src/CliffordCircuits.jl\")\n",
    "# using QuantumClifford\n",
    "include(\"src/TreeStructure.jl\")"
   ]
  },
  {
   "cell_type": "markdown",
   "id": "78ce5017",
   "metadata": {
    "vscode": {
     "languageId": "julia"
    }
   },
   "source": [
    "First, we define useful 3-site gates and the corresponding layers of unitaries. Here we use three examples of Clifford tree-unitary gates with z=3: kicked Ising model, the Hadamard construction, and the triple SWAP (ie permutation of all 3 sites).\n",
    "\n",
    "These operators take in 'triplets' as an argument, which is the sets of 3 nodes to which we apply the 3 site gates."
   ]
  },
  {
   "cell_type": "code",
   "execution_count": null,
   "id": "6f2b9da6",
   "metadata": {},
   "outputs": [],
   "source": [
    "function U_Ising!(ms::MixedDestabilizer,i::Integer,j::Integer)\n",
    "    # Ising Hadamard term applied to two sites i, j\n",
    "    # apply!(ms,random_clifford(2),[i,j])\n",
    "    \n",
    "    apply!(ms,tCNOT,[i,j])\n",
    "    apply!(ms,tHadamard,[i])\n",
    "    apply!(ms,tPhase,[j])\n",
    "    apply!(ms,tHadamard,[i])\n",
    "    apply!(ms,tCNOT,[i,j])\n",
    "    \n",
    "end\n",
    "\n",
    "function U_kim!(ms::MixedDestabilizer,i::Integer,j::Integer,k::Integer)\n",
    "\n",
    "    U_Ising!(ms,i,j) # ising term\n",
    "    U_Ising!(ms,j,k) # ising term \n",
    "    apply!(ms,tHadamard,[i]) #kick on i\n",
    "    apply!(ms,tHadamard,[j]) #kick on j\n",
    "    apply!(ms,tHadamard,[k]) #kick on k\n",
    "    U_Ising!(ms,i,j) # ising term\n",
    "    U_Ising!(ms,j,k) # ising term \n",
    "\n",
    "end\n",
    "\n",
    "function layer_U_kim!(ms, triplets::Vector{Vector{Int64}})\n",
    "    # i=1\n",
    "    for trip in triplets\n",
    "        # println(i,trip)\n",
    "        # i+=1\n",
    "        U_kim!(ms,trip[1],trip[2],trip[3])\n",
    "    end\n",
    "end\n",
    "\n",
    "function U_hadamard1!(ms::MixedDestabilizer,i::Integer,j::Integer,k::Integer)\n",
    "\n",
    "    U_Ising!(ms,i,j) # ising term\n",
    "    U_Ising!(ms,j,k) # ising term \n",
    "    U_Ising!(ms,i,k) # ising term \n",
    "    apply!(ms,tHadamard,[i]) #kick on i\n",
    "    apply!(ms,tHadamard,[j]) #kick on j\n",
    "    apply!(ms,tHadamard,[k]) #kick on k\n",
    "    U_Ising!(ms,i,j) # ising term\n",
    "    U_Ising!(ms,j,k) # ising term \n",
    "    U_Ising!(ms,i,k) # ising term \n",
    "\n",
    "end\n",
    "\n",
    "function layer_U_hadamard1!(ms, triplets::Vector{Vector{Int64}})\n",
    "    for trip in triplets\n",
    "        U_hadamard1!(ms,trip[1],trip[2],trip[3])\n",
    "    end\n",
    "end\n",
    "\n",
    "tripswap=CliffordOperator([QuantumClifford.P\"_X_\", QuantumClifford.P\"__X\", QuantumClifford.P\"X__\", QuantumClifford.P\"_Z_\", QuantumClifford.P\"__Z\", QuantumClifford.P\"Z__\"])\n",
    "\n",
    "function U_tripswap!(ms::MixedDestabilizer,i::Integer,j::Integer,k::Integer)\n",
    "    apply!(ms,tripswap,[i,j,k]) #kick on i\n",
    "end\n",
    "   \n",
    "\n",
    "function layer_U_tripswap!(ms, triplets::Vector{Vector{Int64}})\n",
    "    for trip in triplets\n",
    "        U_tripswap!(ms,trip[1],trip[2],trip[3])\n",
    "    end\n",
    "end\n"
   ]
  },
  {
   "cell_type": "markdown",
   "id": "79ef2008",
   "metadata": {},
   "source": [
    "Next we define our solvable initial state:"
   ]
  },
  {
   "cell_type": "code",
   "execution_count": null,
   "id": "4fa41f65",
   "metadata": {},
   "outputs": [],
   "source": [
    "function ghz(triplets::Vector{Vector{Int64}}, N::Integer)\n",
    "    tripstab=PauliOperator{Array{UInt8, 0}, Vector{UInt64}}[]\n",
    "    for trip in triplets\n",
    "        push!(tripstab, pauli_ij(PauliZ,PauliZ,trip[1],trip[2],N))\n",
    "        push!(tripstab, pauli_ij(PauliZ,PauliZ,trip[2],trip[3],N))\n",
    "        push!(tripstab, pauli_ij(PauliX,PauliX,trip[1],trip[2],N)*pauli_i(PauliX,trip[3],N))\n",
    "    end\n",
    "    # singstab=S\"-XX\\n-ZZ\"\n",
    "    # s=reduce(⊗,repeat([singstab],N))\n",
    "    return MixedDestabilizer(Stabilizer(tripstab))\n",
    "end"
   ]
  },
  {
   "cell_type": "markdown",
   "id": "1d72a423",
   "metadata": {},
   "source": [
    "The solvable regions in which we calculate the entanglement entropy correspond to geometric light cones grown from any point. Here is a function which calculates the entanglement entropy in such a region:"
   ]
  },
  {
   "cell_type": "code",
   "execution_count": null,
   "id": "4ac774b9",
   "metadata": {},
   "outputs": [],
   "source": [
    "function entanglement_lc(state::MixedDestabilizer, rad::Integer, z::Integer)\n",
    "    entanglement_entropy(state,find_lc_zsite(z,rad+2,rad), Val(:rref))\n",
    "end"
   ]
  },
  {
   "cell_type": "code",
   "execution_count": null,
   "id": "b3fab828",
   "metadata": {},
   "outputs": [],
   "source": [
    "z=3\n",
    "gens=10\n",
    "trip_lists=graph_nodes_zsites(z,gens)\n",
    "\n",
    "N=numnodes(z,gens)\n",
    "state=ghz(trip_lists[1],N) #note where ghz's are\n",
    "\n",
    "Nlayers=7\n",
    "rad=6\n",
    "\n",
    "ees_clifford=zeros(Int64,Nlayers+1)\n",
    "ees_clifford[1]=entanglement_lc(state,rad,z)\n",
    "\n",
    "for a in 1:Nlayers\n",
    "    # apply layers of any type:\n",
    "\n",
    "    layer_U_hadamard1!(state,trip_lists[a%2+1])\n",
    "    # layer_U_kim!(state,trip_lists[a%2+1]) \n",
    "    # layer_U_tripswap!(state,trip_lists[a%2+1]) \n",
    "\n",
    "    ees_clifford[a+1]=entanglement_lc(state,rad,z)\n",
    "end\n",
    "\n",
    "ees_clifford"
   ]
  },
  {
   "cell_type": "markdown",
   "id": "10e75de0",
   "metadata": {},
   "source": [
    "Let's check that this matches with the analytic formulae.\n",
    "Note that we need to be a little careful with whether the radius is even or odd (corresponding to whether the initial EE is 0 or nonzero)."
   ]
  },
  {
   "cell_type": "code",
   "execution_count": null,
   "id": "98b7244f",
   "metadata": {},
   "outputs": [],
   "source": [
    "s1(r,t)=3*2^r *(1-2.0^(-t)) \n",
    "s2(r,t)=3*2^r *(1-2.0^(-(t+1))) \n",
    "\n",
    "#if the radius is even\n",
    "s_odd(r,t)= t%2==0 ? s1(r,t) : s2(r,t)\n",
    "s_even(r,t) = t%2==0 ? s2(r,t) : s1(r,t)\n",
    "\n",
    "#\n",
    "s(r,t) = r%2==0 ? s_even(r,t) : s_odd(r,t)"
   ]
  },
  {
   "cell_type": "code",
   "execution_count": null,
   "id": "940a6d9c",
   "metadata": {},
   "outputs": [],
   "source": [
    "z=3\n",
    "r=6\n",
    "\n",
    "tvals=Int64[]\n",
    "svals=Int64[]\n",
    "\n",
    "#for t<r use the formula above\n",
    "for t in 0:(r-1)\n",
    "    push!(tvals,t)\n",
    "    push!(svals, s(r,t))\n",
    "end\n",
    "\n",
    "#saturates from t=r\n",
    "for t in r:r+3\n",
    "    push!(tvals,t)\n",
    "    push!(svals, s1(r,r))\n",
    "end\n",
    "svals"
   ]
  }
 ],
 "metadata": {
  "kernelspec": {
   "display_name": "Julia 1.11.1",
   "language": "julia",
   "name": "julia-1.11"
  },
  "language_info": {
   "file_extension": ".jl",
   "mimetype": "application/julia",
   "name": "julia",
   "version": "1.11.1"
  }
 },
 "nbformat": 4,
 "nbformat_minor": 5
}
