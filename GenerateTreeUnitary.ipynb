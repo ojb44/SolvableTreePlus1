{
 "cells": [
  {
   "cell_type": "markdown",
   "id": "3a3cef9b",
   "metadata": {},
   "source": [
    "Here we implement the algorithm to generate tree-unitary gates."
   ]
  },
  {
   "cell_type": "code",
   "execution_count": null,
   "id": "d2cbdd01",
   "metadata": {},
   "outputs": [],
   "source": [
    "import numpy as np"
   ]
  },
  {
   "cell_type": "code",
   "execution_count": null,
   "id": "ca09348b",
   "metadata": {},
   "outputs": [],
   "source": [
    "q = 2\n",
    "M = np.random.rand(q**3,q**3)\n",
    "M_ = M.reshape([q]*6)\n",
    "\n",
    "for _ in range(5000):\n",
    "    #Unitarity\n",
    "    M_ = M_.reshape(q**3,q**3)\n",
    "    U,_,Vh = np.linalg.svd(M_, full_matrices=True)\n",
    "    M_ = U @ Vh\n",
    "    M_ = M_.reshape([q]*6)\n",
    "    \n",
    "    #First tree-unitarity\n",
    "    M_ = np.einsum('abcdef->bcefad',M_)\n",
    "    M_ = M_.reshape(q**4,q**2)\n",
    "    U,S,Vh = np.linalg.svd(M_, full_matrices=True)\n",
    "    M_ = U[:,:q**2] @ Vh\n",
    "    M_ = M_.reshape([q]*6)*np.sqrt(2)\n",
    "    M_ = np.einsum('bcefad->abcdef',M_)\n",
    "\n",
    "    #Second tree-unitarity\n",
    "    M_ = np.einsum('abcdef->acdfbe',M_)\n",
    "    M_ = M_.reshape(q**4,q**2)\n",
    "    U,S,Vh = np.linalg.svd(M_, full_matrices=True)\n",
    "    M_ = U[:,:q**2] @ Vh\n",
    "    M_ = M_.reshape([q]*6)*np.sqrt(2)\n",
    "    M_ = np.einsum('acdfbe->abcdef',M_)\n",
    "    \n",
    "    #Third tree-unitarity\n",
    "    M_ = np.einsum('abcdef->abdecf',M_)\n",
    "    M_ = M_.reshape(q**4,q**2)\n",
    "    U,S,Vh = np.linalg.svd(M_, full_matrices=True)\n",
    "    M_ = U[:,:q**2] @ Vh\n",
    "    M_ = M_.reshape([q]*6)*np.sqrt(2)\n",
    "    M_ = np.einsum('abdecf->abcdef',M_)"
   ]
  },
  {
   "cell_type": "code",
   "execution_count": null,
   "id": "940736a0",
   "metadata": {},
   "outputs": [],
   "source": [
    "#Unitarity\n",
    "U_0 = np.array(M_.reshape(q**3,q**3))\n",
    "print(np.linalg.norm(np.conj(U_0.T) @ U_0   - np.eye(q**3)))\n",
    "\n",
    "#Tree-unitarity\n",
    "Id = np.eye(q)\n",
    "P = np.einsum('ab,cd->abcd',Id,Id).reshape(q**2,q**2)\n",
    "\n",
    "#Tree-unitarity 1\n",
    "R_1 = np.einsum('aghcij,bghdij->abcd',M_,np.conj(M_)).reshape(q**2,q**2)\n",
    "print(np.linalg.norm(R_1-2.*P))\n",
    "\n",
    "#Tree-unitarity 2\n",
    "R_2 = np.einsum('gahicj,gbhidj->abcd',M_,np.conj(M_)).reshape(q**2,q**2)\n",
    "print(np.linalg.norm(R_2-2.*P))\n",
    "\n",
    "#Tree-unitarity 2\n",
    "R_3 = np.einsum('ghaijc,ghbijd->abcd',M_,np.conj(M_)).reshape(q**2,q**2)\n",
    "print(np.linalg.norm(R_3-2.*P))"
   ]
  },
  {
   "cell_type": "markdown",
   "id": "74b099e1",
   "metadata": {},
   "source": [
    "Note: occassionally this algorithm doesn't converge properly - just run again with different starting point!"
   ]
  },
  {
   "cell_type": "code",
   "execution_count": null,
   "id": "1ae1ebc6",
   "metadata": {},
   "outputs": [],
   "source": [
    "#Check additional properties\n",
    "#Should only be zero when abc and def are grouped together\n",
    "import itertools\n",
    "for s in itertools.permutations(['a','b','c','d','e','f']):\n",
    "    label = ''.join(s)\n",
    "    N = np.einsum('abcdef->%s'%label,M_).reshape([q**3,q**3])\n",
    "    print(label,\":\",np.linalg.norm(N @ np.conj(N.T) - np.eye(q**3)))"
   ]
  },
  {
   "cell_type": "markdown",
   "id": "377a6435",
   "metadata": {},
   "source": [
    "We can also generate a TU with a one or more maximum velocity conditions. For example, taking maximum velocity in the 2->1 direction:"
   ]
  },
  {
   "cell_type": "code",
   "execution_count": null,
   "id": "252fd636",
   "metadata": {},
   "outputs": [],
   "source": [
    "q = 2\n",
    "M = np.random.rand(q**3,q**3)\n",
    "M_ = M.reshape([q]*6)\n",
    "\n",
    "for _ in range(5000):\n",
    "    #Unitarity\n",
    "    M_ = M_.reshape(q**3,q**3)\n",
    "    U,_,Vh = np.linalg.svd(M_, full_matrices=True)\n",
    "    M_ = U @ Vh\n",
    "    M_ = M_.reshape([q]*6)\n",
    "    \n",
    "    #First tree-unitarity\n",
    "    M_ = np.einsum('abcdef->bcefad',M_)\n",
    "    M_ = M_.reshape(q**4,q**2)\n",
    "    U,S,Vh = np.linalg.svd(M_, full_matrices=True)\n",
    "    M_ = U[:,:q**2] @ Vh\n",
    "    M_ = M_.reshape([q]*6)*np.sqrt(2)\n",
    "    M_ = np.einsum('bcefad->abcdef',M_)\n",
    "\n",
    "\n",
    "    #Second tree-unitarity as a max velocity condition 2->1\n",
    "    M_ = np.einsum('abcdef->bceadf',M_)\n",
    "    M_ = M_.reshape(q**3,q**3)\n",
    "    U,S,Vh = np.linalg.svd(M_, full_matrices=True)\n",
    "    M_ = U @ Vh\n",
    "    M_ = M_.reshape([q]*6)*np.sqrt(2)\n",
    "    M_ = np.einsum('bceadf->abcdef',M_)\n",
    "    \n",
    "    \n",
    "    #Third tree-unitarity\n",
    "    M_ = np.einsum('abcdef->abdecf',M_)\n",
    "    M_ = M_.reshape(q**4,q**2)\n",
    "    U,S,Vh = np.linalg.svd(M_, full_matrices=True)\n",
    "    M_ = U[:,:q**2] @ Vh\n",
    "    M_ = M_.reshape([q]*6)*np.sqrt(2)\n",
    "    M_ = np.einsum('abdecf->abcdef',M_)"
   ]
  },
  {
   "cell_type": "code",
   "execution_count": null,
   "id": "92184905",
   "metadata": {},
   "outputs": [],
   "source": [
    "#Unitarity\n",
    "U_0 = np.array(M_.reshape(q**3,q**3))\n",
    "print(np.linalg.norm(np.conj(U_0.T) @ U_0   - np.eye(q**3)))\n",
    "\n",
    "#Tree-unitarity\n",
    "Id = np.eye(q)\n",
    "# Pt=np.einsum('ab,cd->abcd',Id,Id)\n",
    "P = np.einsum('ab,cd->abcd',Id,Id).reshape(q**2,q**2)\n",
    "# Q = np.einsum('abcd,ef->abcdef',Pt,Id).reshape(q**3,q**3)\n",
    "\n",
    "#Tree-unitarity 1\n",
    "R_1 = np.einsum('aghcij,bghdij->abcd',M_,np.conj(M_)).reshape(q**2,q**2)\n",
    "print(np.linalg.norm(R_1-2.*P))\n",
    "\n",
    "#Tree-unitarity 2\n",
    "R_2 = np.einsum('gahicj,gbhidj->abcd',M_,np.conj(M_)).reshape(q**2,q**2)\n",
    "print(np.linalg.norm(R_2-2.*P))\n",
    "\n",
    "#Tree-unitarity 3\n",
    "R_3 = np.einsum('ghaijc,ghbijd->abcd',M_,np.conj(M_)).reshape(q**2,q**2)\n",
    "print(np.linalg.norm(R_3-2.*P))\n",
    "\n",
    "#Max-velocity 2->3\n",
    "R_4 = np.einsum('abijck,deijfk->abcdef',M_,np.conj(M_)).reshape(q**3,q**3)\n",
    "print(np.linalg.norm(R_4-np.eye(q**3)))\n",
    "\n",
    "#Max-velocity 2->1\n",
    "R_4 = np.einsum('iabjck,idejfk->abcdef',M_,np.conj(M_)).reshape(q**3,q**3)\n",
    "print(np.linalg.norm(R_4-np.eye(q**3)))"
   ]
  }
 ],
 "metadata": {
  "kernelspec": {
   "display_name": "base",
   "language": "python",
   "name": "python3"
  },
  "language_info": {
   "codemirror_mode": {
    "name": "ipython",
    "version": 3
   },
   "file_extension": ".py",
   "mimetype": "text/x-python",
   "name": "python",
   "nbconvert_exporter": "python",
   "pygments_lexer": "ipython3",
   "version": "3.9.17"
  }
 },
 "nbformat": 4,
 "nbformat_minor": 5
}
