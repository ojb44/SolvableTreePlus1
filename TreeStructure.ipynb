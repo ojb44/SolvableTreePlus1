{
 "cells": [
  {
   "cell_type": "markdown",
   "id": "4b1d3387",
   "metadata": {},
   "source": [
    "Here we provide code to find groupings of nodes to which the z-site gates are applied. These functions are collated in src/generating_graphs.jl for use in other notebooks."
   ]
  },
  {
   "cell_type": "markdown",
   "id": "dbdefd38",
   "metadata": {},
   "source": [
    "To start, let's count the number of nodes at a certain number of generations with coordination number z."
   ]
  },
  {
   "cell_type": "code",
   "execution_count": null,
   "id": "8c28cb8c",
   "metadata": {},
   "outputs": [],
   "source": [
    "function numnodes(z::Integer,gens::Integer)\n",
    "    if gens==0\n",
    "        return 1\n",
    "    else\n",
    "        return Int64(1+z+z*(z-1)*((z-1)^(gens-1)-1)/(z-2))\n",
    "    end\n",
    "end"
   ]
  },
  {
   "cell_type": "code",
   "execution_count": null,
   "id": "538b330e",
   "metadata": {},
   "outputs": [],
   "source": [
    "numnodes(3,4)"
   ]
  },
  {
   "cell_type": "markdown",
   "id": "9b894d46",
   "metadata": {},
   "source": [
    "Then we define a function which describes the connectivity of the graph, i.e. each pair defines a bond."
   ]
  },
  {
   "cell_type": "code",
   "execution_count": null,
   "id": "e99223d4",
   "metadata": {},
   "outputs": [],
   "source": [
    "function graph_nodes(z::Integer,gens::Integer)\n",
    "\n",
    "    # #make first generation\n",
    "    pairs=[[1,i] for i in 2:numnodes(z,1)]\n",
    "\n",
    "    for gen in 2:gens\n",
    "        count=numnodes(z,gen-1)+1\n",
    "        for i in (numnodes(z,gen-2)+1):numnodes(z,gen-1)\n",
    "            for j in 1:(z-1)\n",
    "                push!(pairs,[i,count])\n",
    "                count+=1\n",
    "            end\n",
    "        end\n",
    "\n",
    "    end\n",
    "\n",
    "    return pairs\n",
    "\n",
    "end"
   ]
  },
  {
   "cell_type": "code",
   "execution_count": null,
   "id": "c0465fa7",
   "metadata": {},
   "outputs": [],
   "source": [
    "graph_nodes(3,4)"
   ]
  },
  {
   "cell_type": "markdown",
   "id": "97758f27",
   "metadata": {},
   "source": [
    "Now we split the bonds (ie pairs of nodes) according to the 2-coloring."
   ]
  },
  {
   "cell_type": "code",
   "execution_count": null,
   "id": "4a9dd693",
   "metadata": {},
   "outputs": [],
   "source": [
    "function graph_nodes_2coloring(z::Integer,gens::Integer)\n",
    "\n",
    "    orange=[[1,i] for i in 2:z]\n",
    "    green=[[1,z+1]]\n",
    "\n",
    "    \n",
    "    for gen in 2:gens\n",
    "        count=numnodes(z,gen-1)+1\n",
    "        for i in (numnodes(z,gen-2)+1):numnodes(z,gen-1) #loop around the outside of the tree\n",
    "            # println(i)\n",
    "            #check colour of existing bond on i\n",
    "            if any(i in p for p in orange)\n",
    "                push!(green,[i,count])\n",
    "                # println(\"green\",count)\n",
    "            else\n",
    "                push!(orange,[i,count])\n",
    "                # println(\"orange\")\n",
    "            end\n",
    "            count+=1\n",
    "\n",
    "            for j in 1:(z-2) #add z-2 new sites of the same colour\n",
    "                if gen%2==0\n",
    "                    push!(green,[i,count])\n",
    "                    count+=1\n",
    "                else\n",
    "                    push!(orange,[i,count])\n",
    "                    count+=1\n",
    "                end\n",
    "            end\n",
    "            \n",
    "        end\n",
    "\n",
    "    end\n",
    "\n",
    "    return orange,green\n",
    "\n",
    "end"
   ]
  },
  {
   "cell_type": "code",
   "execution_count": null,
   "id": "8190cd20",
   "metadata": {},
   "outputs": [],
   "source": [
    "graph_nodes_2coloring(3,4)"
   ]
  },
  {
   "cell_type": "markdown",
   "id": "dfd493ba",
   "metadata": {},
   "source": [
    "Next, group nodes into sets of z sites on which the z-site unitaries act. For simplicity in using this to apply z-site gates, we remove the single 'outlier' group at the edge which will contain only two nodes."
   ]
  },
  {
   "cell_type": "code",
   "execution_count": null,
   "id": "7fc92285",
   "metadata": {},
   "outputs": [],
   "source": [
    "function merge(pairs)\n",
    "    zsets=[pairs[1]]\n",
    "    for pair in pairs[2:end]\n",
    "        count=0\n",
    "        for i in 1:length(zsets)\n",
    "            if !isempty(intersect(zsets[i], pair))\n",
    "                zsets[i]=union(zsets[i],pair) \n",
    "                count+=1\n",
    "            end\n",
    "        end\n",
    "        if count==0\n",
    "            push!(zsets,pair)\n",
    "        end\n",
    "    end\n",
    "    return zsets\n",
    "end\n",
    "\n",
    "function remove_pair(sets)\n",
    "    return filter(x -> length(x) != 2, sets)\n",
    "end\n",
    "\n",
    "#find the sets of nodes on which the gate acts \n",
    "function graph_nodes_zsites(z,gens)\n",
    "    o,g=graph_nodes_2coloring(z,gens)\n",
    "    om=merge(o)\n",
    "    gm=merge(g)\n",
    "    # return om, gm\n",
    "    return remove_pair(om),remove_pair(gm)\n",
    "    \n",
    "end"
   ]
  },
  {
   "cell_type": "code",
   "execution_count": null,
   "id": "6c4661f6",
   "metadata": {},
   "outputs": [],
   "source": [
    "graph_nodes_zsites(3,2)"
   ]
  },
  {
   "cell_type": "markdown",
   "id": "5858cf19",
   "metadata": {},
   "source": [
    "Finally, we have a function which will find the set of nodes inside the geometric light cone after a certain time."
   ]
  },
  {
   "cell_type": "code",
   "execution_count": null,
   "id": "791f1662",
   "metadata": {},
   "outputs": [],
   "source": [
    "function find_lc_zsite(z,gens,time)\n",
    "    #finds the sites in the light cone from the origin at certain time\n",
    "    trip_lists=graph_nodes_zsites(z,gens)\n",
    "    lightcone=[1]\n",
    "\n",
    "    for t in 1:time\n",
    "        trips=trip_lists[(t-1)%2+1]\n",
    "        for trip in trips\n",
    "            if any(x in lightcone for x in trip)\n",
    "                lightcone=union(lightcone,trip)\n",
    "            end\n",
    "        end\n",
    "    end\n",
    "    return lightcone\n",
    "end"
   ]
  },
  {
   "cell_type": "code",
   "execution_count": null,
   "id": "8857e131",
   "metadata": {},
   "outputs": [],
   "source": [
    "find_lc_zsite(3,4,2)"
   ]
  }
 ],
 "metadata": {
  "kernelspec": {
   "display_name": "Julia 1.11.1",
   "language": "julia",
   "name": "julia-1.11"
  },
  "language_info": {
   "file_extension": ".jl",
   "mimetype": "application/julia",
   "name": "julia",
   "version": "1.11.1"
  }
 },
 "nbformat": 4,
 "nbformat_minor": 5
}
